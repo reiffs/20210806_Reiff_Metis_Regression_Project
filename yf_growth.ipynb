{
 "cells": [
  {
   "cell_type": "code",
   "execution_count": 6,
   "id": "4a41825c",
   "metadata": {},
   "outputs": [],
   "source": [
    "import yfinance as yf\n",
    "import pandas as pd\n",
    "from tqdm import tqdm"
   ]
  },
  {
   "cell_type": "code",
   "execution_count": 7,
   "id": "87ac4341",
   "metadata": {},
   "outputs": [],
   "source": [
    "# pull scraped df from csv\n",
    "\n",
    "df = pd.read_csv(r'/Users/sam/Desktop/raw_ticker_df.csv')"
   ]
  },
  {
   "cell_type": "code",
   "execution_count": 8,
   "id": "5ca8b25f",
   "metadata": {},
   "outputs": [],
   "source": [
    "ticker_list = list(df.equity)"
   ]
  },
  {
   "cell_type": "code",
   "execution_count": 9,
   "id": "1aa50a78",
   "metadata": {},
   "outputs": [
    {
     "name": "stderr",
     "output_type": "stream",
     "text": [
      "100%|█████████████████████████████████████| 1007/1007 [1:11:57<00:00,  4.29s/it]\n"
     ]
    }
   ],
   "source": [
    "# add industry classification via YF API\n",
    "# can take >hr to run\n",
    "\n",
    "russ_tickers = list(df.equity)\n",
    "ticker_growth_list = []\n",
    "\n",
    "for stock in tqdm(russ_tickers):\n",
    "    try:\n",
    "        growth = yf.Ticker(stock).info['revenueGrowth']\n",
    "        ticker_growth_list.append([stock,growth])\n",
    "    except:\n",
    "        ticker_growth_list.append([stock,0.0])"
   ]
  },
  {
   "cell_type": "code",
   "execution_count": 10,
   "id": "18c9279f",
   "metadata": {},
   "outputs": [],
   "source": [
    "growth_df = pd.DataFrame(ticker_growth_list,columns=['equity','growth'])"
   ]
  },
  {
   "cell_type": "code",
   "execution_count": 13,
   "id": "64a21c17",
   "metadata": {},
   "outputs": [
    {
     "data": {
      "text/html": [
       "<div>\n",
       "<style scoped>\n",
       "    .dataframe tbody tr th:only-of-type {\n",
       "        vertical-align: middle;\n",
       "    }\n",
       "\n",
       "    .dataframe tbody tr th {\n",
       "        vertical-align: top;\n",
       "    }\n",
       "\n",
       "    .dataframe thead th {\n",
       "        text-align: right;\n",
       "    }\n",
       "</style>\n",
       "<table border=\"1\" class=\"dataframe\">\n",
       "  <thead>\n",
       "    <tr style=\"text-align: right;\">\n",
       "      <th></th>\n",
       "      <th>growth</th>\n",
       "    </tr>\n",
       "  </thead>\n",
       "  <tbody>\n",
       "    <tr>\n",
       "      <th>count</th>\n",
       "      <td>991.000000</td>\n",
       "    </tr>\n",
       "    <tr>\n",
       "      <th>mean</th>\n",
       "      <td>0.804660</td>\n",
       "    </tr>\n",
       "    <tr>\n",
       "      <th>std</th>\n",
       "      <td>9.239144</td>\n",
       "    </tr>\n",
       "    <tr>\n",
       "      <th>min</th>\n",
       "      <td>-0.998000</td>\n",
       "    </tr>\n",
       "    <tr>\n",
       "      <th>25%</th>\n",
       "      <td>0.037500</td>\n",
       "    </tr>\n",
       "    <tr>\n",
       "      <th>50%</th>\n",
       "      <td>0.147000</td>\n",
       "    </tr>\n",
       "    <tr>\n",
       "      <th>75%</th>\n",
       "      <td>0.339500</td>\n",
       "    </tr>\n",
       "    <tr>\n",
       "      <th>max</th>\n",
       "      <td>241.125000</td>\n",
       "    </tr>\n",
       "  </tbody>\n",
       "</table>\n",
       "</div>"
      ],
      "text/plain": [
       "           growth\n",
       "count  991.000000\n",
       "mean     0.804660\n",
       "std      9.239144\n",
       "min     -0.998000\n",
       "25%      0.037500\n",
       "50%      0.147000\n",
       "75%      0.339500\n",
       "max    241.125000"
      ]
     },
     "execution_count": 13,
     "metadata": {},
     "output_type": "execute_result"
    }
   ],
   "source": [
    "growth_df.describe()"
   ]
  },
  {
   "cell_type": "code",
   "execution_count": 14,
   "id": "86738056",
   "metadata": {},
   "outputs": [],
   "source": [
    "# export to csv\n",
    "growth_df.to_csv(r'/Users/sam/Desktop/ticker_growth_df.csv')"
   ]
  }
 ],
 "metadata": {
  "kernelspec": {
   "display_name": "Python [conda env:metis] *",
   "language": "python",
   "name": "conda-env-metis-py"
  },
  "language_info": {
   "codemirror_mode": {
    "name": "ipython",
    "version": 3
   },
   "file_extension": ".py",
   "mimetype": "text/x-python",
   "name": "python",
   "nbconvert_exporter": "python",
   "pygments_lexer": "ipython3",
   "version": "3.8.10"
  }
 },
 "nbformat": 4,
 "nbformat_minor": 5
}
