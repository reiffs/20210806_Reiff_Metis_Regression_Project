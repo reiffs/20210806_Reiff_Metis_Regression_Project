{
 "cells": [
  {
   "cell_type": "code",
   "execution_count": 4,
   "id": "4a41825c",
   "metadata": {},
   "outputs": [],
   "source": [
    "import yfinance as yf\n",
    "import pandas as pd\n",
    "from tqdm import tqdm"
   ]
  },
  {
   "cell_type": "code",
   "execution_count": 5,
   "id": "87ac4341",
   "metadata": {},
   "outputs": [],
   "source": [
    "# pull scraped df from csv\n",
    "\n",
    "df = pd.read_csv(r'/Users/sam/Desktop/raw_ticker_df.csv')"
   ]
  },
  {
   "cell_type": "code",
   "execution_count": 6,
   "id": "5ca8b25f",
   "metadata": {},
   "outputs": [],
   "source": [
    "ticker_list = list(df.equity)"
   ]
  },
  {
   "cell_type": "code",
   "execution_count": 7,
   "id": "1aa50a78",
   "metadata": {},
   "outputs": [
    {
     "name": "stderr",
     "output_type": "stream",
     "text": [
      "100%|█████████████████████████████████████| 1007/1007 [1:13:38<00:00,  4.39s/it]\n"
     ]
    }
   ],
   "source": [
    "# add industry classification via YF API\n",
    "# can take >hr to run\n",
    "\n",
    "russ_tickers = list(df.equity)\n",
    "ticker_ind_list = []\n",
    "\n",
    "for stock in tqdm(russ_tickers):\n",
    "    try:\n",
    "        industry = yf.Ticker(stock).info['industry']\n",
    "        ticker_ind_list.append([stock,industry])\n",
    "    except:\n",
    "        ticker_ind_list.append([stock,'Niche'])"
   ]
  },
  {
   "cell_type": "code",
   "execution_count": 18,
   "id": "18c9279f",
   "metadata": {},
   "outputs": [],
   "source": [
    "ind_df = pd.DataFrame(ticker_ind_list,columns=['equity','industry'])"
   ]
  },
  {
   "cell_type": "code",
   "execution_count": 19,
   "id": "64a21c17",
   "metadata": {},
   "outputs": [],
   "source": [
    "# export to csv\n",
    "ind_df.to_csv(r'/Users/sam/Desktop/ticker_ind_df.csv')"
   ]
  }
 ],
 "metadata": {
  "kernelspec": {
   "display_name": "Python [conda env:metis] *",
   "language": "python",
   "name": "conda-env-metis-py"
  },
  "language_info": {
   "codemirror_mode": {
    "name": "ipython",
    "version": 3
   },
   "file_extension": ".py",
   "mimetype": "text/x-python",
   "name": "python",
   "nbconvert_exporter": "python",
   "pygments_lexer": "ipython3",
   "version": "3.8.10"
  }
 },
 "nbformat": 4,
 "nbformat_minor": 5
}
